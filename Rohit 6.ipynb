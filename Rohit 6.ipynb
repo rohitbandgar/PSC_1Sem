{
 "cells": [
  {
   "cell_type": "code",
   "execution_count": 3,
   "id": "ad48ee05-8b59-4376-ba0e-6066c0e77478",
   "metadata": {},
   "outputs": [],
   "source": [
    "a=2"
   ]
  },
  {
   "cell_type": "code",
   "execution_count": 4,
   "id": "326a3ccc-745d-4079-8a48-71885e8fa5e9",
   "metadata": {},
   "outputs": [
    {
     "name": "stdout",
     "output_type": "stream",
     "text": [
      "2\n"
     ]
    }
   ],
   "source": [
    "# library function or input function\n",
    "print(a)"
   ]
  },
  {
   "cell_type": "code",
   "execution_count": 5,
   "id": "3617337b-39b6-4f80-9fe9-01a13e61a707",
   "metadata": {},
   "outputs": [
    {
     "name": "stdout",
     "output_type": "stream",
     "text": [
      "Rohit bandgar\n"
     ]
    }
   ],
   "source": [
    "print (\"Rohit bandgar\")"
   ]
  },
  {
   "cell_type": "code",
   "execution_count": 6,
   "id": "6347a6f0-51fc-4820-847c-843a84d05773",
   "metadata": {},
   "outputs": [],
   "source": [
    "name =\"Rohit bandgar\""
   ]
  },
  {
   "cell_type": "code",
   "execution_count": 10,
   "id": "62778f8e-a2b2-4847-88c3-b2bda811cc95",
   "metadata": {},
   "outputs": [],
   "source": [
    "a,b,c =5,4,7"
   ]
  },
  {
   "cell_type": "code",
   "execution_count": 29,
   "id": "aeb6fb2d-2be0-4479-920a-772f0c6a5d66",
   "metadata": {},
   "outputs": [],
   "source": [
    "a = b= c = 7"
   ]
  },
  {
   "cell_type": "code",
   "execution_count": 12,
   "id": "7dba3fd9-54aa-41be-b723-58045d41fe9b",
   "metadata": {},
   "outputs": [
    {
     "name": "stdout",
     "output_type": "stream",
     "text": [
      "7 7 7\n"
     ]
    }
   ],
   "source": [
    "print(a,b,c)"
   ]
  },
  {
   "cell_type": "code",
   "execution_count": 15,
   "id": "4922fd62-ea0c-4dc7-8a07-3390733edb31",
   "metadata": {},
   "outputs": [
    {
     "name": "stdout",
     "output_type": "stream",
     "text": [
      "7 ,7 ,7\n"
     ]
    }
   ],
   "source": [
    "print(a,b,c, sep=' ,')"
   ]
  },
  {
   "cell_type": "code",
   "execution_count": 23,
   "id": "f945678d-26e7-4787-ae2d-9b5a3a0e49a6",
   "metadata": {},
   "outputs": [
    {
     "name": "stdout",
     "output_type": "stream",
     "text": [
      "7@7@7\n"
     ]
    }
   ],
   "source": [
    "print (a,b,c, sep='@')"
   ]
  },
  {
   "cell_type": "code",
   "execution_count": 24,
   "id": "400c1d3e-14b3-4915-a7e5-2aab8c1318af",
   "metadata": {},
   "outputs": [
    {
     "name": "stdout",
     "output_type": "stream",
     "text": [
      "45 67 89\n"
     ]
    }
   ],
   "source": [
    "print(45,67,89, sep =\" \")"
   ]
  },
  {
   "cell_type": "code",
   "execution_count": 28,
   "id": "d7e72fe5-b04a-4c25-95d6-9e49ef8b6246",
   "metadata": {},
   "outputs": [
    {
     "name": "stdout",
     "output_type": "stream",
     "text": [
      "Rohit bandgar\tChinmay jadhav\n"
     ]
    }
   ],
   "source": [
    "print('Rohit bandgar',end='\\t')\n",
    "print(\"Chinmay jadhav\")\n"
   ]
  },
  {
   "cell_type": "code",
   "execution_count": 30,
   "id": "f223cd87-cc7c-4896-aaa7-ab577012ad21",
   "metadata": {},
   "outputs": [
    {
     "name": "stdout",
     "output_type": "stream",
     "text": [
      "Enter Two Nos,\n"
     ]
    },
    {
     "name": "stdin",
     "output_type": "stream",
     "text": [
      "input the value of a 45\n",
      "input the value of b 78\n"
     ]
    },
    {
     "name": "stdout",
     "output_type": "stream",
     "text": [
      "123\n"
     ]
    }
   ],
   "source": [
    "#write code to add 2 no\n",
    "print(\"Enter Two Nos,\")\n",
    "a = int(input(\"input the value of a\"))\n",
    "b = int(input(\"input the value of b\"))\n",
    "c=a+b\n",
    "print(c)"
   ]
  },
  {
   "cell_type": "code",
   "execution_count": null,
   "id": "e5c2bcca-66c5-4f3b-973b-05c35a9d9677",
   "metadata": {},
   "outputs": [],
   "source": []
  }
 ],
 "metadata": {
  "kernelspec": {
   "display_name": "Python 3 (ipykernel)",
   "language": "python",
   "name": "python3"
  },
  "language_info": {
   "codemirror_mode": {
    "name": "ipython",
    "version": 3
   },
   "file_extension": ".py",
   "mimetype": "text/x-python",
   "name": "python",
   "nbconvert_exporter": "python",
   "pygments_lexer": "ipython3",
   "version": "3.12.4"
  }
 },
 "nbformat": 4,
 "nbformat_minor": 5
}
